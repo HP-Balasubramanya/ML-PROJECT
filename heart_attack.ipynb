{
  "nbformat": 4,
  "nbformat_minor": 0,
  "metadata": {
    "colab": {
      "name": "heart_attack.ipynb",
      "provenance": [],
      "collapsed_sections": [],
      "include_colab_link": true
    },
    "kernelspec": {
      "name": "python3",
      "display_name": "Python 3"
    }
  },
  "cells": [
    {
      "cell_type": "markdown",
      "metadata": {
        "id": "view-in-github",
        "colab_type": "text"
      },
      "source": [
        "<a href=\"https://colab.research.google.com/github/HP-Balasubramanya/ML-PROJECT/blob/master/heart_attack.ipynb\" target=\"_parent\"><img src=\"https://colab.research.google.com/assets/colab-badge.svg\" alt=\"Open In Colab\"/></a>"
      ]
    },
    {
      "cell_type": "code",
      "metadata": {
        "id": "Kvpjo6w82B4M",
        "colab_type": "code",
        "colab": {}
      },
      "source": [
        "import tensorflow as tf\n",
        "import pandas as pd\n",
        "import numpy as np"
      ],
      "execution_count": null,
      "outputs": []
    },
    {
      "cell_type": "code",
      "metadata": {
        "id": "nkUWAQDF3DQb",
        "colab_type": "code",
        "colab": {}
      },
      "source": [
        "data = pd.read_csv(\"/content/heart attack datasets\")"
      ],
      "execution_count": null,
      "outputs": []
    },
    {
      "cell_type": "code",
      "metadata": {
        "id": "kkdcVa7z31iA",
        "colab_type": "code",
        "colab": {
          "base_uri": "https://localhost:8080/",
          "height": 316
        },
        "outputId": "0bac768d-7fc6-4b18-903d-24cbd4a92dd9"
      },
      "source": [
        "data.describe()"
      ],
      "execution_count": null,
      "outputs": [
        {
          "output_type": "execute_result",
          "data": {
            "text/html": [
              "<div>\n",
              "<style scoped>\n",
              "    .dataframe tbody tr th:only-of-type {\n",
              "        vertical-align: middle;\n",
              "    }\n",
              "\n",
              "    .dataframe tbody tr th {\n",
              "        vertical-align: top;\n",
              "    }\n",
              "\n",
              "    .dataframe thead th {\n",
              "        text-align: right;\n",
              "    }\n",
              "</style>\n",
              "<table border=\"1\" class=\"dataframe\">\n",
              "  <thead>\n",
              "    <tr style=\"text-align: right;\">\n",
              "      <th></th>\n",
              "      <th>age</th>\n",
              "      <th>anaemia</th>\n",
              "      <th>creatinine_phosphokinase</th>\n",
              "      <th>diabetes</th>\n",
              "      <th>ejection_fraction</th>\n",
              "      <th>high_blood_pressure</th>\n",
              "      <th>platelets</th>\n",
              "      <th>serum_creatinine</th>\n",
              "      <th>serum_sodium</th>\n",
              "      <th>sex</th>\n",
              "      <th>smoking</th>\n",
              "      <th>time</th>\n",
              "      <th>DEATH_EVENT</th>\n",
              "    </tr>\n",
              "  </thead>\n",
              "  <tbody>\n",
              "    <tr>\n",
              "      <th>count</th>\n",
              "      <td>299.000000</td>\n",
              "      <td>299.000000</td>\n",
              "      <td>299.000000</td>\n",
              "      <td>299.000000</td>\n",
              "      <td>299.000000</td>\n",
              "      <td>299.000000</td>\n",
              "      <td>299.000000</td>\n",
              "      <td>299.00000</td>\n",
              "      <td>299.000000</td>\n",
              "      <td>299.000000</td>\n",
              "      <td>299.00000</td>\n",
              "      <td>299.000000</td>\n",
              "      <td>299.00000</td>\n",
              "    </tr>\n",
              "    <tr>\n",
              "      <th>mean</th>\n",
              "      <td>60.833893</td>\n",
              "      <td>0.431438</td>\n",
              "      <td>581.839465</td>\n",
              "      <td>0.418060</td>\n",
              "      <td>38.083612</td>\n",
              "      <td>0.351171</td>\n",
              "      <td>263358.029264</td>\n",
              "      <td>1.39388</td>\n",
              "      <td>136.625418</td>\n",
              "      <td>0.648829</td>\n",
              "      <td>0.32107</td>\n",
              "      <td>130.260870</td>\n",
              "      <td>0.32107</td>\n",
              "    </tr>\n",
              "    <tr>\n",
              "      <th>std</th>\n",
              "      <td>11.894809</td>\n",
              "      <td>0.496107</td>\n",
              "      <td>970.287881</td>\n",
              "      <td>0.494067</td>\n",
              "      <td>11.834841</td>\n",
              "      <td>0.478136</td>\n",
              "      <td>97804.236869</td>\n",
              "      <td>1.03451</td>\n",
              "      <td>4.412477</td>\n",
              "      <td>0.478136</td>\n",
              "      <td>0.46767</td>\n",
              "      <td>77.614208</td>\n",
              "      <td>0.46767</td>\n",
              "    </tr>\n",
              "    <tr>\n",
              "      <th>min</th>\n",
              "      <td>40.000000</td>\n",
              "      <td>0.000000</td>\n",
              "      <td>23.000000</td>\n",
              "      <td>0.000000</td>\n",
              "      <td>14.000000</td>\n",
              "      <td>0.000000</td>\n",
              "      <td>25100.000000</td>\n",
              "      <td>0.50000</td>\n",
              "      <td>113.000000</td>\n",
              "      <td>0.000000</td>\n",
              "      <td>0.00000</td>\n",
              "      <td>4.000000</td>\n",
              "      <td>0.00000</td>\n",
              "    </tr>\n",
              "    <tr>\n",
              "      <th>25%</th>\n",
              "      <td>51.000000</td>\n",
              "      <td>0.000000</td>\n",
              "      <td>116.500000</td>\n",
              "      <td>0.000000</td>\n",
              "      <td>30.000000</td>\n",
              "      <td>0.000000</td>\n",
              "      <td>212500.000000</td>\n",
              "      <td>0.90000</td>\n",
              "      <td>134.000000</td>\n",
              "      <td>0.000000</td>\n",
              "      <td>0.00000</td>\n",
              "      <td>73.000000</td>\n",
              "      <td>0.00000</td>\n",
              "    </tr>\n",
              "    <tr>\n",
              "      <th>50%</th>\n",
              "      <td>60.000000</td>\n",
              "      <td>0.000000</td>\n",
              "      <td>250.000000</td>\n",
              "      <td>0.000000</td>\n",
              "      <td>38.000000</td>\n",
              "      <td>0.000000</td>\n",
              "      <td>262000.000000</td>\n",
              "      <td>1.10000</td>\n",
              "      <td>137.000000</td>\n",
              "      <td>1.000000</td>\n",
              "      <td>0.00000</td>\n",
              "      <td>115.000000</td>\n",
              "      <td>0.00000</td>\n",
              "    </tr>\n",
              "    <tr>\n",
              "      <th>75%</th>\n",
              "      <td>70.000000</td>\n",
              "      <td>1.000000</td>\n",
              "      <td>582.000000</td>\n",
              "      <td>1.000000</td>\n",
              "      <td>45.000000</td>\n",
              "      <td>1.000000</td>\n",
              "      <td>303500.000000</td>\n",
              "      <td>1.40000</td>\n",
              "      <td>140.000000</td>\n",
              "      <td>1.000000</td>\n",
              "      <td>1.00000</td>\n",
              "      <td>203.000000</td>\n",
              "      <td>1.00000</td>\n",
              "    </tr>\n",
              "    <tr>\n",
              "      <th>max</th>\n",
              "      <td>95.000000</td>\n",
              "      <td>1.000000</td>\n",
              "      <td>7861.000000</td>\n",
              "      <td>1.000000</td>\n",
              "      <td>80.000000</td>\n",
              "      <td>1.000000</td>\n",
              "      <td>850000.000000</td>\n",
              "      <td>9.40000</td>\n",
              "      <td>148.000000</td>\n",
              "      <td>1.000000</td>\n",
              "      <td>1.00000</td>\n",
              "      <td>285.000000</td>\n",
              "      <td>1.00000</td>\n",
              "    </tr>\n",
              "  </tbody>\n",
              "</table>\n",
              "</div>"
            ],
            "text/plain": [
              "              age     anaemia  ...        time  DEATH_EVENT\n",
              "count  299.000000  299.000000  ...  299.000000    299.00000\n",
              "mean    60.833893    0.431438  ...  130.260870      0.32107\n",
              "std     11.894809    0.496107  ...   77.614208      0.46767\n",
              "min     40.000000    0.000000  ...    4.000000      0.00000\n",
              "25%     51.000000    0.000000  ...   73.000000      0.00000\n",
              "50%     60.000000    0.000000  ...  115.000000      0.00000\n",
              "75%     70.000000    1.000000  ...  203.000000      1.00000\n",
              "max     95.000000    1.000000  ...  285.000000      1.00000\n",
              "\n",
              "[8 rows x 13 columns]"
            ]
          },
          "metadata": {
            "tags": []
          },
          "execution_count": 112
        }
      ]
    },
    {
      "cell_type": "code",
      "metadata": {
        "id": "ps6jx7dQB67H",
        "colab_type": "code",
        "colab": {
          "base_uri": "https://localhost:8080/",
          "height": 316
        },
        "outputId": "fbb03e99-9b16-446e-931f-a3993f5106a7"
      },
      "source": [
        "data.describe()"
      ],
      "execution_count": null,
      "outputs": [
        {
          "output_type": "execute_result",
          "data": {
            "text/html": [
              "<div>\n",
              "<style scoped>\n",
              "    .dataframe tbody tr th:only-of-type {\n",
              "        vertical-align: middle;\n",
              "    }\n",
              "\n",
              "    .dataframe tbody tr th {\n",
              "        vertical-align: top;\n",
              "    }\n",
              "\n",
              "    .dataframe thead th {\n",
              "        text-align: right;\n",
              "    }\n",
              "</style>\n",
              "<table border=\"1\" class=\"dataframe\">\n",
              "  <thead>\n",
              "    <tr style=\"text-align: right;\">\n",
              "      <th></th>\n",
              "      <th>age</th>\n",
              "      <th>anaemia</th>\n",
              "      <th>creatinine_phosphokinase</th>\n",
              "      <th>diabetes</th>\n",
              "      <th>ejection_fraction</th>\n",
              "      <th>high_blood_pressure</th>\n",
              "      <th>platelets</th>\n",
              "      <th>serum_creatinine</th>\n",
              "      <th>serum_sodium</th>\n",
              "      <th>sex</th>\n",
              "      <th>smoking</th>\n",
              "      <th>time</th>\n",
              "      <th>DEATH_EVENT</th>\n",
              "    </tr>\n",
              "  </thead>\n",
              "  <tbody>\n",
              "    <tr>\n",
              "      <th>count</th>\n",
              "      <td>299.000000</td>\n",
              "      <td>299.000000</td>\n",
              "      <td>299.000000</td>\n",
              "      <td>299.000000</td>\n",
              "      <td>299.000000</td>\n",
              "      <td>299.000000</td>\n",
              "      <td>299.000000</td>\n",
              "      <td>299.00000</td>\n",
              "      <td>299.000000</td>\n",
              "      <td>299.000000</td>\n",
              "      <td>299.00000</td>\n",
              "      <td>299.000000</td>\n",
              "      <td>299.00000</td>\n",
              "    </tr>\n",
              "    <tr>\n",
              "      <th>mean</th>\n",
              "      <td>60.833893</td>\n",
              "      <td>0.431438</td>\n",
              "      <td>581.839465</td>\n",
              "      <td>0.418060</td>\n",
              "      <td>38.083612</td>\n",
              "      <td>0.351171</td>\n",
              "      <td>263358.029264</td>\n",
              "      <td>1.39388</td>\n",
              "      <td>136.625418</td>\n",
              "      <td>0.648829</td>\n",
              "      <td>0.32107</td>\n",
              "      <td>130.260870</td>\n",
              "      <td>0.32107</td>\n",
              "    </tr>\n",
              "    <tr>\n",
              "      <th>std</th>\n",
              "      <td>11.894809</td>\n",
              "      <td>0.496107</td>\n",
              "      <td>970.287881</td>\n",
              "      <td>0.494067</td>\n",
              "      <td>11.834841</td>\n",
              "      <td>0.478136</td>\n",
              "      <td>97804.236869</td>\n",
              "      <td>1.03451</td>\n",
              "      <td>4.412477</td>\n",
              "      <td>0.478136</td>\n",
              "      <td>0.46767</td>\n",
              "      <td>77.614208</td>\n",
              "      <td>0.46767</td>\n",
              "    </tr>\n",
              "    <tr>\n",
              "      <th>min</th>\n",
              "      <td>40.000000</td>\n",
              "      <td>0.000000</td>\n",
              "      <td>23.000000</td>\n",
              "      <td>0.000000</td>\n",
              "      <td>14.000000</td>\n",
              "      <td>0.000000</td>\n",
              "      <td>25100.000000</td>\n",
              "      <td>0.50000</td>\n",
              "      <td>113.000000</td>\n",
              "      <td>0.000000</td>\n",
              "      <td>0.00000</td>\n",
              "      <td>4.000000</td>\n",
              "      <td>0.00000</td>\n",
              "    </tr>\n",
              "    <tr>\n",
              "      <th>25%</th>\n",
              "      <td>51.000000</td>\n",
              "      <td>0.000000</td>\n",
              "      <td>116.500000</td>\n",
              "      <td>0.000000</td>\n",
              "      <td>30.000000</td>\n",
              "      <td>0.000000</td>\n",
              "      <td>212500.000000</td>\n",
              "      <td>0.90000</td>\n",
              "      <td>134.000000</td>\n",
              "      <td>0.000000</td>\n",
              "      <td>0.00000</td>\n",
              "      <td>73.000000</td>\n",
              "      <td>0.00000</td>\n",
              "    </tr>\n",
              "    <tr>\n",
              "      <th>50%</th>\n",
              "      <td>60.000000</td>\n",
              "      <td>0.000000</td>\n",
              "      <td>250.000000</td>\n",
              "      <td>0.000000</td>\n",
              "      <td>38.000000</td>\n",
              "      <td>0.000000</td>\n",
              "      <td>262000.000000</td>\n",
              "      <td>1.10000</td>\n",
              "      <td>137.000000</td>\n",
              "      <td>1.000000</td>\n",
              "      <td>0.00000</td>\n",
              "      <td>115.000000</td>\n",
              "      <td>0.00000</td>\n",
              "    </tr>\n",
              "    <tr>\n",
              "      <th>75%</th>\n",
              "      <td>70.000000</td>\n",
              "      <td>1.000000</td>\n",
              "      <td>582.000000</td>\n",
              "      <td>1.000000</td>\n",
              "      <td>45.000000</td>\n",
              "      <td>1.000000</td>\n",
              "      <td>303500.000000</td>\n",
              "      <td>1.40000</td>\n",
              "      <td>140.000000</td>\n",
              "      <td>1.000000</td>\n",
              "      <td>1.00000</td>\n",
              "      <td>203.000000</td>\n",
              "      <td>1.00000</td>\n",
              "    </tr>\n",
              "    <tr>\n",
              "      <th>max</th>\n",
              "      <td>95.000000</td>\n",
              "      <td>1.000000</td>\n",
              "      <td>7861.000000</td>\n",
              "      <td>1.000000</td>\n",
              "      <td>80.000000</td>\n",
              "      <td>1.000000</td>\n",
              "      <td>850000.000000</td>\n",
              "      <td>9.40000</td>\n",
              "      <td>148.000000</td>\n",
              "      <td>1.000000</td>\n",
              "      <td>1.00000</td>\n",
              "      <td>285.000000</td>\n",
              "      <td>1.00000</td>\n",
              "    </tr>\n",
              "  </tbody>\n",
              "</table>\n",
              "</div>"
            ],
            "text/plain": [
              "              age     anaemia  ...        time  DEATH_EVENT\n",
              "count  299.000000  299.000000  ...  299.000000    299.00000\n",
              "mean    60.833893    0.431438  ...  130.260870      0.32107\n",
              "std     11.894809    0.496107  ...   77.614208      0.46767\n",
              "min     40.000000    0.000000  ...    4.000000      0.00000\n",
              "25%     51.000000    0.000000  ...   73.000000      0.00000\n",
              "50%     60.000000    0.000000  ...  115.000000      0.00000\n",
              "75%     70.000000    1.000000  ...  203.000000      1.00000\n",
              "max     95.000000    1.000000  ...  285.000000      1.00000\n",
              "\n",
              "[8 rows x 13 columns]"
            ]
          },
          "metadata": {
            "tags": []
          },
          "execution_count": 113
        }
      ]
    },
    {
      "cell_type": "code",
      "metadata": {
        "id": "tubAWq0DFTUn",
        "colab_type": "code",
        "colab": {}
      },
      "source": [
        "data = data.astype('float32')"
      ],
      "execution_count": null,
      "outputs": []
    },
    {
      "cell_type": "code",
      "metadata": {
        "id": "qxicQrc5FfXi",
        "colab_type": "code",
        "colab": {
          "base_uri": "https://localhost:8080/",
          "height": 223
        },
        "outputId": "f3b0eb32-2745-4892-f64f-9c86dc5d7cc0"
      },
      "source": [
        "data.head()"
      ],
      "execution_count": null,
      "outputs": [
        {
          "output_type": "execute_result",
          "data": {
            "text/html": [
              "<div>\n",
              "<style scoped>\n",
              "    .dataframe tbody tr th:only-of-type {\n",
              "        vertical-align: middle;\n",
              "    }\n",
              "\n",
              "    .dataframe tbody tr th {\n",
              "        vertical-align: top;\n",
              "    }\n",
              "\n",
              "    .dataframe thead th {\n",
              "        text-align: right;\n",
              "    }\n",
              "</style>\n",
              "<table border=\"1\" class=\"dataframe\">\n",
              "  <thead>\n",
              "    <tr style=\"text-align: right;\">\n",
              "      <th></th>\n",
              "      <th>age</th>\n",
              "      <th>anaemia</th>\n",
              "      <th>creatinine_phosphokinase</th>\n",
              "      <th>diabetes</th>\n",
              "      <th>ejection_fraction</th>\n",
              "      <th>high_blood_pressure</th>\n",
              "      <th>platelets</th>\n",
              "      <th>serum_creatinine</th>\n",
              "      <th>serum_sodium</th>\n",
              "      <th>sex</th>\n",
              "      <th>smoking</th>\n",
              "      <th>time</th>\n",
              "      <th>DEATH_EVENT</th>\n",
              "    </tr>\n",
              "  </thead>\n",
              "  <tbody>\n",
              "    <tr>\n",
              "      <th>0</th>\n",
              "      <td>75.0</td>\n",
              "      <td>0.0</td>\n",
              "      <td>582.0</td>\n",
              "      <td>0.0</td>\n",
              "      <td>20.0</td>\n",
              "      <td>1.0</td>\n",
              "      <td>265000.00000</td>\n",
              "      <td>1.9</td>\n",
              "      <td>130.0</td>\n",
              "      <td>1.0</td>\n",
              "      <td>0.0</td>\n",
              "      <td>4.0</td>\n",
              "      <td>1.0</td>\n",
              "    </tr>\n",
              "    <tr>\n",
              "      <th>1</th>\n",
              "      <td>55.0</td>\n",
              "      <td>0.0</td>\n",
              "      <td>7861.0</td>\n",
              "      <td>0.0</td>\n",
              "      <td>38.0</td>\n",
              "      <td>0.0</td>\n",
              "      <td>263358.03125</td>\n",
              "      <td>1.1</td>\n",
              "      <td>136.0</td>\n",
              "      <td>1.0</td>\n",
              "      <td>0.0</td>\n",
              "      <td>6.0</td>\n",
              "      <td>1.0</td>\n",
              "    </tr>\n",
              "    <tr>\n",
              "      <th>2</th>\n",
              "      <td>65.0</td>\n",
              "      <td>0.0</td>\n",
              "      <td>146.0</td>\n",
              "      <td>0.0</td>\n",
              "      <td>20.0</td>\n",
              "      <td>0.0</td>\n",
              "      <td>162000.00000</td>\n",
              "      <td>1.3</td>\n",
              "      <td>129.0</td>\n",
              "      <td>1.0</td>\n",
              "      <td>1.0</td>\n",
              "      <td>7.0</td>\n",
              "      <td>1.0</td>\n",
              "    </tr>\n",
              "    <tr>\n",
              "      <th>3</th>\n",
              "      <td>50.0</td>\n",
              "      <td>1.0</td>\n",
              "      <td>111.0</td>\n",
              "      <td>0.0</td>\n",
              "      <td>20.0</td>\n",
              "      <td>0.0</td>\n",
              "      <td>210000.00000</td>\n",
              "      <td>1.9</td>\n",
              "      <td>137.0</td>\n",
              "      <td>1.0</td>\n",
              "      <td>0.0</td>\n",
              "      <td>7.0</td>\n",
              "      <td>1.0</td>\n",
              "    </tr>\n",
              "    <tr>\n",
              "      <th>4</th>\n",
              "      <td>65.0</td>\n",
              "      <td>1.0</td>\n",
              "      <td>160.0</td>\n",
              "      <td>1.0</td>\n",
              "      <td>20.0</td>\n",
              "      <td>0.0</td>\n",
              "      <td>327000.00000</td>\n",
              "      <td>2.7</td>\n",
              "      <td>116.0</td>\n",
              "      <td>0.0</td>\n",
              "      <td>0.0</td>\n",
              "      <td>8.0</td>\n",
              "      <td>1.0</td>\n",
              "    </tr>\n",
              "  </tbody>\n",
              "</table>\n",
              "</div>"
            ],
            "text/plain": [
              "    age  anaemia  creatinine_phosphokinase  ...  smoking  time  DEATH_EVENT\n",
              "0  75.0      0.0                     582.0  ...      0.0   4.0          1.0\n",
              "1  55.0      0.0                    7861.0  ...      0.0   6.0          1.0\n",
              "2  65.0      0.0                     146.0  ...      1.0   7.0          1.0\n",
              "3  50.0      1.0                     111.0  ...      0.0   7.0          1.0\n",
              "4  65.0      1.0                     160.0  ...      0.0   8.0          1.0\n",
              "\n",
              "[5 rows x 13 columns]"
            ]
          },
          "metadata": {
            "tags": []
          },
          "execution_count": 115
        }
      ]
    },
    {
      "cell_type": "code",
      "metadata": {
        "id": "eo8RqQPjCBBS",
        "colab_type": "code",
        "colab": {}
      },
      "source": [
        "data = data.to_numpy()"
      ],
      "execution_count": null,
      "outputs": []
    },
    {
      "cell_type": "code",
      "metadata": {
        "id": "k9k_p2XWCA--",
        "colab_type": "code",
        "colab": {
          "base_uri": "https://localhost:8080/",
          "height": 34
        },
        "outputId": "8e66e506-1d5a-4080-c351-d58b461dad02"
      },
      "source": [
        "data.shape"
      ],
      "execution_count": null,
      "outputs": [
        {
          "output_type": "execute_result",
          "data": {
            "text/plain": [
              "(299, 13)"
            ]
          },
          "metadata": {
            "tags": []
          },
          "execution_count": 117
        }
      ]
    },
    {
      "cell_type": "code",
      "metadata": {
        "id": "KiSl3tH7avHO",
        "colab_type": "code",
        "colab": {}
      },
      "source": [
        "training = data[0:250]\n",
        "testing = data[250:]"
      ],
      "execution_count": null,
      "outputs": []
    },
    {
      "cell_type": "code",
      "metadata": {
        "id": "5Yap_rjmbanM",
        "colab_type": "code",
        "colab": {
          "base_uri": "https://localhost:8080/",
          "height": 52
        },
        "outputId": "c4469202-0549-46d7-92be-661fb2e5ee48"
      },
      "source": [
        "print(training.shape)\n",
        "print(testing.shape)"
      ],
      "execution_count": null,
      "outputs": [
        {
          "output_type": "stream",
          "text": [
            "(250, 13)\n",
            "(49, 13)\n"
          ],
          "name": "stdout"
        }
      ]
    },
    {
      "cell_type": "code",
      "metadata": {
        "id": "Eu03cOYpcLSy",
        "colab_type": "code",
        "colab": {}
      },
      "source": [
        "training_features = training[:,0:-1]\n",
        "training_labels = training[:,-1]\n",
        "testing_features = testing[:,0:-1]\n",
        "testing_labels = testing[:,-1]"
      ],
      "execution_count": null,
      "outputs": []
    },
    {
      "cell_type": "code",
      "metadata": {
        "id": "JO0eja1EdPKh",
        "colab_type": "code",
        "colab": {
          "base_uri": "https://localhost:8080/",
          "height": 52
        },
        "outputId": "a9232fb2-58e4-4f9b-c8ed-3a5ca5c41cf4"
      },
      "source": [
        "print(training_features.shape)\n",
        "print(training_labels.shape)"
      ],
      "execution_count": null,
      "outputs": [
        {
          "output_type": "stream",
          "text": [
            "(250, 12)\n",
            "(250,)\n"
          ],
          "name": "stdout"
        }
      ]
    },
    {
      "cell_type": "code",
      "metadata": {
        "id": "_fp7bMFIde6P",
        "colab_type": "code",
        "colab": {
          "base_uri": "https://localhost:8080/",
          "height": 34
        },
        "outputId": "08c069ac-158d-4aa9-967d-66398e5a1c68"
      },
      "source": [
        "training_features[0].shape"
      ],
      "execution_count": null,
      "outputs": [
        {
          "output_type": "execute_result",
          "data": {
            "text/plain": [
              "(12,)"
            ]
          },
          "metadata": {
            "tags": []
          },
          "execution_count": 122
        }
      ]
    },
    {
      "cell_type": "code",
      "metadata": {
        "id": "0qNPpBWeejJT",
        "colab_type": "code",
        "colab": {}
      },
      "source": [
        "from tensorflow.keras.models import Sequential\n",
        "from tensorflow.keras.layers import Input, Dense, Dropout"
      ],
      "execution_count": null,
      "outputs": []
    },
    {
      "cell_type": "code",
      "metadata": {
        "id": "lNjLXUnIfaZ1",
        "colab_type": "code",
        "colab": {}
      },
      "source": [
        "model = Sequential()\n",
        "model.add(Input(shape=(12,)))\n",
        "model.add(Dense(16,activation=\"relu\"))\n",
        "model.add(Dropout(0.2))\n",
        "model.add(Dense(0,activation=\"relu\"))\n",
        "model.add(Dropout(0.2))\n",
        "model.add(Dense(1,activation=\"sigmoid\"))"
      ],
      "execution_count": null,
      "outputs": []
    },
    {
      "cell_type": "code",
      "metadata": {
        "id": "er6NjDes0UEj",
        "colab_type": "code",
        "colab": {}
      },
      "source": [
        "model.compile(optimizer='sgd', loss='binary_crossentropy', metrics=['accuracy'])"
      ],
      "execution_count": null,
      "outputs": []
    },
    {
      "cell_type": "code",
      "metadata": {
        "id": "r7dj8YpF9O6t",
        "colab_type": "code",
        "colab": {
          "base_uri": "https://localhost:8080/",
          "height": 1000
        },
        "outputId": "ec91b497-8047-4248-8e82-d79d83459c09"
      },
      "source": [
        "model.fit(training_features,training_labels,epochs=100,validation_data=(testing_features,testing_labels))"
      ],
      "execution_count": null,
      "outputs": [
        {
          "output_type": "stream",
          "text": [
            "Epoch 1/100\n",
            "8/8 [==============================] - 0s 17ms/step - loss: 0.6931 - accuracy: 0.6240 - val_loss: 0.6931 - val_accuracy: 0.9592\n",
            "Epoch 2/100\n",
            "8/8 [==============================] - 0s 3ms/step - loss: 0.6931 - accuracy: 0.6240 - val_loss: 0.6931 - val_accuracy: 0.9592\n",
            "Epoch 3/100\n",
            "8/8 [==============================] - 0s 3ms/step - loss: 0.6931 - accuracy: 0.6240 - val_loss: 0.6931 - val_accuracy: 0.9592\n",
            "Epoch 4/100\n",
            "8/8 [==============================] - 0s 4ms/step - loss: 0.6931 - accuracy: 0.6240 - val_loss: 0.6931 - val_accuracy: 0.9592\n",
            "Epoch 5/100\n",
            "8/8 [==============================] - 0s 4ms/step - loss: 0.6931 - accuracy: 0.6240 - val_loss: 0.6931 - val_accuracy: 0.9592\n",
            "Epoch 6/100\n",
            "8/8 [==============================] - 0s 3ms/step - loss: 0.6931 - accuracy: 0.6240 - val_loss: 0.6931 - val_accuracy: 0.9592\n",
            "Epoch 7/100\n",
            "8/8 [==============================] - 0s 4ms/step - loss: 0.6931 - accuracy: 0.6240 - val_loss: 0.6931 - val_accuracy: 0.9592\n",
            "Epoch 8/100\n",
            "8/8 [==============================] - 0s 3ms/step - loss: 0.6931 - accuracy: 0.6240 - val_loss: 0.6931 - val_accuracy: 0.9592\n",
            "Epoch 9/100\n",
            "8/8 [==============================] - 0s 3ms/step - loss: 0.6931 - accuracy: 0.6240 - val_loss: 0.6931 - val_accuracy: 0.9592\n",
            "Epoch 10/100\n",
            "8/8 [==============================] - 0s 4ms/step - loss: 0.6931 - accuracy: 0.6240 - val_loss: 0.6931 - val_accuracy: 0.9592\n",
            "Epoch 11/100\n",
            "8/8 [==============================] - 0s 4ms/step - loss: 0.6931 - accuracy: 0.6240 - val_loss: 0.6931 - val_accuracy: 0.9592\n",
            "Epoch 12/100\n",
            "8/8 [==============================] - 0s 5ms/step - loss: 0.6931 - accuracy: 0.6240 - val_loss: 0.6931 - val_accuracy: 0.9592\n",
            "Epoch 13/100\n",
            "8/8 [==============================] - 0s 4ms/step - loss: 0.6931 - accuracy: 0.6240 - val_loss: 0.6931 - val_accuracy: 0.9592\n",
            "Epoch 14/100\n",
            "8/8 [==============================] - 0s 4ms/step - loss: 0.6931 - accuracy: 0.6240 - val_loss: 0.6931 - val_accuracy: 0.9592\n",
            "Epoch 15/100\n",
            "8/8 [==============================] - 0s 3ms/step - loss: 0.6931 - accuracy: 0.6240 - val_loss: 0.6931 - val_accuracy: 0.9592\n",
            "Epoch 16/100\n",
            "8/8 [==============================] - 0s 3ms/step - loss: 0.6931 - accuracy: 0.6240 - val_loss: 0.6931 - val_accuracy: 0.9592\n",
            "Epoch 17/100\n",
            "8/8 [==============================] - 0s 3ms/step - loss: 0.6931 - accuracy: 0.6240 - val_loss: 0.6931 - val_accuracy: 0.9592\n",
            "Epoch 18/100\n",
            "8/8 [==============================] - 0s 3ms/step - loss: 0.6931 - accuracy: 0.6240 - val_loss: 0.6931 - val_accuracy: 0.9592\n",
            "Epoch 19/100\n",
            "8/8 [==============================] - 0s 3ms/step - loss: 0.6931 - accuracy: 0.6240 - val_loss: 0.6931 - val_accuracy: 0.9592\n",
            "Epoch 20/100\n",
            "8/8 [==============================] - 0s 3ms/step - loss: 0.6931 - accuracy: 0.6240 - val_loss: 0.6931 - val_accuracy: 0.9592\n",
            "Epoch 21/100\n",
            "8/8 [==============================] - 0s 3ms/step - loss: 0.6931 - accuracy: 0.6240 - val_loss: 0.6931 - val_accuracy: 0.9592\n",
            "Epoch 22/100\n",
            "8/8 [==============================] - 0s 3ms/step - loss: 0.6931 - accuracy: 0.6240 - val_loss: 0.6931 - val_accuracy: 0.9592\n",
            "Epoch 23/100\n",
            "8/8 [==============================] - 0s 3ms/step - loss: 0.6931 - accuracy: 0.6240 - val_loss: 0.6931 - val_accuracy: 0.9592\n",
            "Epoch 24/100\n",
            "8/8 [==============================] - 0s 3ms/step - loss: 0.6931 - accuracy: 0.6240 - val_loss: 0.6931 - val_accuracy: 0.9592\n",
            "Epoch 25/100\n",
            "8/8 [==============================] - 0s 3ms/step - loss: 0.6931 - accuracy: 0.6240 - val_loss: 0.6931 - val_accuracy: 0.9592\n",
            "Epoch 26/100\n",
            "8/8 [==============================] - 0s 3ms/step - loss: 0.6931 - accuracy: 0.6240 - val_loss: 0.6931 - val_accuracy: 0.9592\n",
            "Epoch 27/100\n",
            "8/8 [==============================] - 0s 4ms/step - loss: 0.6931 - accuracy: 0.6240 - val_loss: 0.6931 - val_accuracy: 0.9592\n",
            "Epoch 28/100\n",
            "8/8 [==============================] - 0s 3ms/step - loss: 0.6931 - accuracy: 0.6240 - val_loss: 0.6931 - val_accuracy: 0.9592\n",
            "Epoch 29/100\n",
            "8/8 [==============================] - 0s 4ms/step - loss: 0.6931 - accuracy: 0.6240 - val_loss: 0.6931 - val_accuracy: 0.9592\n",
            "Epoch 30/100\n",
            "8/8 [==============================] - 0s 3ms/step - loss: 0.6931 - accuracy: 0.6240 - val_loss: 0.6931 - val_accuracy: 0.9592\n",
            "Epoch 31/100\n",
            "8/8 [==============================] - 0s 3ms/step - loss: 0.6931 - accuracy: 0.6240 - val_loss: 0.6931 - val_accuracy: 0.9592\n",
            "Epoch 32/100\n",
            "8/8 [==============================] - 0s 3ms/step - loss: 0.6931 - accuracy: 0.6240 - val_loss: 0.6931 - val_accuracy: 0.9592\n",
            "Epoch 33/100\n",
            "8/8 [==============================] - 0s 3ms/step - loss: 0.6931 - accuracy: 0.6240 - val_loss: 0.6931 - val_accuracy: 0.9592\n",
            "Epoch 34/100\n",
            "8/8 [==============================] - 0s 4ms/step - loss: 0.6931 - accuracy: 0.6240 - val_loss: 0.6931 - val_accuracy: 0.9592\n",
            "Epoch 35/100\n",
            "8/8 [==============================] - 0s 4ms/step - loss: 0.6931 - accuracy: 0.6240 - val_loss: 0.6931 - val_accuracy: 0.9592\n",
            "Epoch 36/100\n",
            "8/8 [==============================] - 0s 4ms/step - loss: 0.6931 - accuracy: 0.6240 - val_loss: 0.6931 - val_accuracy: 0.9592\n",
            "Epoch 37/100\n",
            "8/8 [==============================] - 0s 3ms/step - loss: 0.6931 - accuracy: 0.6240 - val_loss: 0.6931 - val_accuracy: 0.9592\n",
            "Epoch 38/100\n",
            "8/8 [==============================] - 0s 3ms/step - loss: 0.6931 - accuracy: 0.6240 - val_loss: 0.6931 - val_accuracy: 0.9592\n",
            "Epoch 39/100\n",
            "8/8 [==============================] - 0s 3ms/step - loss: 0.6931 - accuracy: 0.6240 - val_loss: 0.6931 - val_accuracy: 0.9592\n",
            "Epoch 40/100\n",
            "8/8 [==============================] - 0s 4ms/step - loss: 0.6931 - accuracy: 0.6240 - val_loss: 0.6931 - val_accuracy: 0.9592\n",
            "Epoch 41/100\n",
            "8/8 [==============================] - 0s 4ms/step - loss: 0.6931 - accuracy: 0.6240 - val_loss: 0.6931 - val_accuracy: 0.9592\n",
            "Epoch 42/100\n",
            "8/8 [==============================] - 0s 3ms/step - loss: 0.6931 - accuracy: 0.6240 - val_loss: 0.6931 - val_accuracy: 0.9592\n",
            "Epoch 43/100\n",
            "8/8 [==============================] - 0s 4ms/step - loss: 0.6931 - accuracy: 0.6240 - val_loss: 0.6931 - val_accuracy: 0.9592\n",
            "Epoch 44/100\n",
            "8/8 [==============================] - 0s 3ms/step - loss: 0.6931 - accuracy: 0.6240 - val_loss: 0.6931 - val_accuracy: 0.9592\n",
            "Epoch 45/100\n",
            "8/8 [==============================] - 0s 3ms/step - loss: 0.6931 - accuracy: 0.6240 - val_loss: 0.6931 - val_accuracy: 0.9592\n",
            "Epoch 46/100\n",
            "8/8 [==============================] - 0s 4ms/step - loss: 0.6931 - accuracy: 0.6240 - val_loss: 0.6931 - val_accuracy: 0.9592\n",
            "Epoch 47/100\n",
            "8/8 [==============================] - 0s 3ms/step - loss: 0.6931 - accuracy: 0.6240 - val_loss: 0.6931 - val_accuracy: 0.9592\n",
            "Epoch 48/100\n",
            "8/8 [==============================] - 0s 3ms/step - loss: 0.6931 - accuracy: 0.6240 - val_loss: 0.6931 - val_accuracy: 0.9592\n",
            "Epoch 49/100\n",
            "8/8 [==============================] - 0s 5ms/step - loss: 0.6931 - accuracy: 0.6240 - val_loss: 0.6931 - val_accuracy: 0.9592\n",
            "Epoch 50/100\n",
            "8/8 [==============================] - 0s 3ms/step - loss: 0.6931 - accuracy: 0.6240 - val_loss: 0.6931 - val_accuracy: 0.9592\n",
            "Epoch 51/100\n",
            "8/8 [==============================] - 0s 4ms/step - loss: 0.6931 - accuracy: 0.6240 - val_loss: 0.6931 - val_accuracy: 0.9592\n",
            "Epoch 52/100\n",
            "8/8 [==============================] - 0s 4ms/step - loss: 0.6931 - accuracy: 0.6240 - val_loss: 0.6931 - val_accuracy: 0.9592\n",
            "Epoch 53/100\n",
            "8/8 [==============================] - 0s 3ms/step - loss: 0.6931 - accuracy: 0.6240 - val_loss: 0.6931 - val_accuracy: 0.9592\n",
            "Epoch 54/100\n",
            "8/8 [==============================] - 0s 5ms/step - loss: 0.6931 - accuracy: 0.6240 - val_loss: 0.6931 - val_accuracy: 0.9592\n",
            "Epoch 55/100\n",
            "8/8 [==============================] - 0s 4ms/step - loss: 0.6931 - accuracy: 0.6240 - val_loss: 0.6931 - val_accuracy: 0.9592\n",
            "Epoch 56/100\n",
            "8/8 [==============================] - 0s 4ms/step - loss: 0.6931 - accuracy: 0.6240 - val_loss: 0.6931 - val_accuracy: 0.9592\n",
            "Epoch 57/100\n",
            "8/8 [==============================] - 0s 3ms/step - loss: 0.6931 - accuracy: 0.6240 - val_loss: 0.6931 - val_accuracy: 0.9592\n",
            "Epoch 58/100\n",
            "8/8 [==============================] - 0s 3ms/step - loss: 0.6931 - accuracy: 0.6240 - val_loss: 0.6931 - val_accuracy: 0.9592\n",
            "Epoch 59/100\n",
            "8/8 [==============================] - 0s 3ms/step - loss: 0.6931 - accuracy: 0.6240 - val_loss: 0.6931 - val_accuracy: 0.9592\n",
            "Epoch 60/100\n",
            "8/8 [==============================] - 0s 3ms/step - loss: 0.6931 - accuracy: 0.6240 - val_loss: 0.6931 - val_accuracy: 0.9592\n",
            "Epoch 61/100\n",
            "8/8 [==============================] - 0s 3ms/step - loss: 0.6931 - accuracy: 0.6240 - val_loss: 0.6931 - val_accuracy: 0.9592\n",
            "Epoch 62/100\n",
            "8/8 [==============================] - 0s 3ms/step - loss: 0.6931 - accuracy: 0.6240 - val_loss: 0.6931 - val_accuracy: 0.9592\n",
            "Epoch 63/100\n",
            "8/8 [==============================] - 0s 3ms/step - loss: 0.6931 - accuracy: 0.6240 - val_loss: 0.6931 - val_accuracy: 0.9592\n",
            "Epoch 64/100\n",
            "8/8 [==============================] - 0s 4ms/step - loss: 0.6931 - accuracy: 0.6240 - val_loss: 0.6931 - val_accuracy: 0.9592\n",
            "Epoch 65/100\n",
            "8/8 [==============================] - 0s 3ms/step - loss: 0.6931 - accuracy: 0.6240 - val_loss: 0.6931 - val_accuracy: 0.9592\n",
            "Epoch 66/100\n",
            "8/8 [==============================] - 0s 3ms/step - loss: 0.6931 - accuracy: 0.6240 - val_loss: 0.6931 - val_accuracy: 0.9592\n",
            "Epoch 67/100\n",
            "8/8 [==============================] - 0s 3ms/step - loss: 0.6931 - accuracy: 0.6240 - val_loss: 0.6931 - val_accuracy: 0.9592\n",
            "Epoch 68/100\n",
            "8/8 [==============================] - 0s 3ms/step - loss: 0.6931 - accuracy: 0.6240 - val_loss: 0.6931 - val_accuracy: 0.9592\n",
            "Epoch 69/100\n",
            "8/8 [==============================] - 0s 3ms/step - loss: 0.6931 - accuracy: 0.6240 - val_loss: 0.6931 - val_accuracy: 0.9592\n",
            "Epoch 70/100\n",
            "8/8 [==============================] - 0s 3ms/step - loss: 0.6931 - accuracy: 0.6240 - val_loss: 0.6931 - val_accuracy: 0.9592\n",
            "Epoch 71/100\n",
            "8/8 [==============================] - 0s 3ms/step - loss: 0.6931 - accuracy: 0.6240 - val_loss: 0.6931 - val_accuracy: 0.9592\n",
            "Epoch 72/100\n",
            "8/8 [==============================] - 0s 4ms/step - loss: 0.6931 - accuracy: 0.6240 - val_loss: 0.6931 - val_accuracy: 0.9592\n",
            "Epoch 73/100\n",
            "8/8 [==============================] - 0s 4ms/step - loss: 0.6931 - accuracy: 0.6240 - val_loss: 0.6931 - val_accuracy: 0.9592\n",
            "Epoch 74/100\n",
            "8/8 [==============================] - 0s 3ms/step - loss: 0.6931 - accuracy: 0.6240 - val_loss: 0.6931 - val_accuracy: 0.9592\n",
            "Epoch 75/100\n",
            "8/8 [==============================] - 0s 3ms/step - loss: 0.6931 - accuracy: 0.6240 - val_loss: 0.6931 - val_accuracy: 0.9592\n",
            "Epoch 76/100\n",
            "8/8 [==============================] - 0s 3ms/step - loss: 0.6931 - accuracy: 0.6240 - val_loss: 0.6931 - val_accuracy: 0.9592\n",
            "Epoch 77/100\n",
            "8/8 [==============================] - 0s 3ms/step - loss: 0.6931 - accuracy: 0.6240 - val_loss: 0.6931 - val_accuracy: 0.9592\n",
            "Epoch 78/100\n",
            "8/8 [==============================] - 0s 3ms/step - loss: 0.6931 - accuracy: 0.6240 - val_loss: 0.6931 - val_accuracy: 0.9592\n",
            "Epoch 79/100\n",
            "8/8 [==============================] - 0s 4ms/step - loss: 0.6931 - accuracy: 0.6240 - val_loss: 0.6931 - val_accuracy: 0.9592\n",
            "Epoch 80/100\n",
            "8/8 [==============================] - 0s 3ms/step - loss: 0.6931 - accuracy: 0.6240 - val_loss: 0.6931 - val_accuracy: 0.9592\n",
            "Epoch 81/100\n",
            "8/8 [==============================] - 0s 4ms/step - loss: 0.6931 - accuracy: 0.6240 - val_loss: 0.6931 - val_accuracy: 0.9592\n",
            "Epoch 82/100\n",
            "8/8 [==============================] - 0s 3ms/step - loss: 0.6931 - accuracy: 0.6240 - val_loss: 0.6931 - val_accuracy: 0.9592\n",
            "Epoch 83/100\n",
            "8/8 [==============================] - 0s 3ms/step - loss: 0.6931 - accuracy: 0.6240 - val_loss: 0.6931 - val_accuracy: 0.9592\n",
            "Epoch 84/100\n",
            "8/8 [==============================] - 0s 3ms/step - loss: 0.6931 - accuracy: 0.6240 - val_loss: 0.6931 - val_accuracy: 0.9592\n",
            "Epoch 85/100\n",
            "8/8 [==============================] - 0s 3ms/step - loss: 0.6931 - accuracy: 0.6240 - val_loss: 0.6931 - val_accuracy: 0.9592\n",
            "Epoch 86/100\n",
            "8/8 [==============================] - 0s 5ms/step - loss: 0.6931 - accuracy: 0.6240 - val_loss: 0.6931 - val_accuracy: 0.9592\n",
            "Epoch 87/100\n",
            "8/8 [==============================] - 0s 4ms/step - loss: 0.6931 - accuracy: 0.6240 - val_loss: 0.6931 - val_accuracy: 0.9592\n",
            "Epoch 88/100\n",
            "8/8 [==============================] - 0s 3ms/step - loss: 0.6931 - accuracy: 0.6240 - val_loss: 0.6931 - val_accuracy: 0.9592\n",
            "Epoch 89/100\n",
            "8/8 [==============================] - 0s 3ms/step - loss: 0.6931 - accuracy: 0.6240 - val_loss: 0.6931 - val_accuracy: 0.9592\n",
            "Epoch 90/100\n",
            "8/8 [==============================] - 0s 3ms/step - loss: 0.6931 - accuracy: 0.6240 - val_loss: 0.6931 - val_accuracy: 0.9592\n",
            "Epoch 91/100\n",
            "8/8 [==============================] - 0s 3ms/step - loss: 0.6931 - accuracy: 0.6240 - val_loss: 0.6931 - val_accuracy: 0.9592\n",
            "Epoch 92/100\n",
            "8/8 [==============================] - 0s 4ms/step - loss: 0.6931 - accuracy: 0.6240 - val_loss: 0.6931 - val_accuracy: 0.9592\n",
            "Epoch 93/100\n",
            "8/8 [==============================] - 0s 3ms/step - loss: 0.6931 - accuracy: 0.6240 - val_loss: 0.6931 - val_accuracy: 0.9592\n",
            "Epoch 94/100\n",
            "8/8 [==============================] - 0s 3ms/step - loss: 0.6931 - accuracy: 0.6240 - val_loss: 0.6931 - val_accuracy: 0.9592\n",
            "Epoch 95/100\n",
            "8/8 [==============================] - 0s 3ms/step - loss: 0.6931 - accuracy: 0.6240 - val_loss: 0.6931 - val_accuracy: 0.9592\n",
            "Epoch 96/100\n",
            "8/8 [==============================] - 0s 3ms/step - loss: 0.6931 - accuracy: 0.6240 - val_loss: 0.6931 - val_accuracy: 0.9592\n",
            "Epoch 97/100\n",
            "8/8 [==============================] - 0s 4ms/step - loss: 0.6931 - accuracy: 0.6240 - val_loss: 0.6931 - val_accuracy: 0.9592\n",
            "Epoch 98/100\n",
            "8/8 [==============================] - 0s 4ms/step - loss: 0.6931 - accuracy: 0.6240 - val_loss: 0.6931 - val_accuracy: 0.9592\n",
            "Epoch 99/100\n",
            "8/8 [==============================] - 0s 4ms/step - loss: 0.6931 - accuracy: 0.6240 - val_loss: 0.6931 - val_accuracy: 0.9592\n",
            "Epoch 100/100\n",
            "8/8 [==============================] - 0s 4ms/step - loss: 0.6931 - accuracy: 0.6240 - val_loss: 0.6931 - val_accuracy: 0.9592\n"
          ],
          "name": "stdout"
        },
        {
          "output_type": "execute_result",
          "data": {
            "text/plain": [
              "<tensorflow.python.keras.callbacks.History at 0x7f6cbb449668>"
            ]
          },
          "metadata": {
            "tags": []
          },
          "execution_count": 126
        }
      ]
    }
  ]
}