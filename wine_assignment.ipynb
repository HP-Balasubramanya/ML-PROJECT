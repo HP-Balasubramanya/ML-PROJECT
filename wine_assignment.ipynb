{
  "nbformat": 4,
  "nbformat_minor": 0,
  "metadata": {
    "colab": {
      "name": "wine_assignment",
      "provenance": [],
      "collapsed_sections": [],
      "include_colab_link": true
    },
    "kernelspec": {
      "name": "python3",
      "display_name": "Python 3"
    },
    "widgets": {
      "application/vnd.jupyter.widget-state+json": {
        "6b9a740c87f14a0a8b2952e604ed2355": {
          "model_module": "@jupyter-widgets/controls",
          "model_name": "HBoxModel",
          "state": {
            "_view_name": "HBoxView",
            "_dom_classes": [],
            "_model_name": "HBoxModel",
            "_view_module": "@jupyter-widgets/controls",
            "_model_module_version": "1.5.0",
            "_view_count": null,
            "_view_module_version": "1.5.0",
            "box_style": "",
            "layout": "IPY_MODEL_b9e6ca9cf74f41498af7364c9d720493",
            "_model_module": "@jupyter-widgets/controls",
            "children": [
              "IPY_MODEL_1945bd5fb3f64f6a90dd5574213f5e85",
              "IPY_MODEL_211f28f2eab2443c8367f50e0667fdad"
            ]
          }
        },
        "b9e6ca9cf74f41498af7364c9d720493": {
          "model_module": "@jupyter-widgets/base",
          "model_name": "LayoutModel",
          "state": {
            "_view_name": "LayoutView",
            "grid_template_rows": null,
            "right": null,
            "justify_content": null,
            "_view_module": "@jupyter-widgets/base",
            "overflow": null,
            "_model_module_version": "1.2.0",
            "_view_count": null,
            "flex_flow": null,
            "width": null,
            "min_width": null,
            "border": null,
            "align_items": null,
            "bottom": null,
            "_model_module": "@jupyter-widgets/base",
            "top": null,
            "grid_column": null,
            "overflow_y": null,
            "overflow_x": null,
            "grid_auto_flow": null,
            "grid_area": null,
            "grid_template_columns": null,
            "flex": null,
            "_model_name": "LayoutModel",
            "justify_items": null,
            "grid_row": null,
            "max_height": null,
            "align_content": null,
            "visibility": null,
            "align_self": null,
            "height": null,
            "min_height": null,
            "padding": null,
            "grid_auto_rows": null,
            "grid_gap": null,
            "max_width": null,
            "order": null,
            "_view_module_version": "1.2.0",
            "grid_template_areas": null,
            "object_position": null,
            "object_fit": null,
            "grid_auto_columns": null,
            "margin": null,
            "display": null,
            "left": null
          }
        },
        "1945bd5fb3f64f6a90dd5574213f5e85": {
          "model_module": "@jupyter-widgets/controls",
          "model_name": "FloatProgressModel",
          "state": {
            "_view_name": "ProgressView",
            "style": "IPY_MODEL_0869044bc1e74edb9a04628579f68bb2",
            "_dom_classes": [],
            "description": "100%",
            "_model_name": "FloatProgressModel",
            "bar_style": "success",
            "max": 10000,
            "_view_module": "@jupyter-widgets/controls",
            "_model_module_version": "1.5.0",
            "value": 10000,
            "_view_count": null,
            "_view_module_version": "1.5.0",
            "orientation": "horizontal",
            "min": 0,
            "description_tooltip": null,
            "_model_module": "@jupyter-widgets/controls",
            "layout": "IPY_MODEL_ed57bc63d4b44e9bb8ebd17ae907700b"
          }
        },
        "211f28f2eab2443c8367f50e0667fdad": {
          "model_module": "@jupyter-widgets/controls",
          "model_name": "HTMLModel",
          "state": {
            "_view_name": "HTMLView",
            "style": "IPY_MODEL_94f2921c7f62452086b71ef805901b8d",
            "_dom_classes": [],
            "description": "",
            "_model_name": "HTMLModel",
            "placeholder": "​",
            "_view_module": "@jupyter-widgets/controls",
            "_model_module_version": "1.5.0",
            "value": " 10000/10000 [01:17&lt;00:00, 129.27it/s]",
            "_view_count": null,
            "_view_module_version": "1.5.0",
            "description_tooltip": null,
            "_model_module": "@jupyter-widgets/controls",
            "layout": "IPY_MODEL_5e5ba63af5654492ae99c0d5fea7891b"
          }
        },
        "0869044bc1e74edb9a04628579f68bb2": {
          "model_module": "@jupyter-widgets/controls",
          "model_name": "ProgressStyleModel",
          "state": {
            "_view_name": "StyleView",
            "_model_name": "ProgressStyleModel",
            "description_width": "initial",
            "_view_module": "@jupyter-widgets/base",
            "_model_module_version": "1.5.0",
            "_view_count": null,
            "_view_module_version": "1.2.0",
            "bar_color": null,
            "_model_module": "@jupyter-widgets/controls"
          }
        },
        "ed57bc63d4b44e9bb8ebd17ae907700b": {
          "model_module": "@jupyter-widgets/base",
          "model_name": "LayoutModel",
          "state": {
            "_view_name": "LayoutView",
            "grid_template_rows": null,
            "right": null,
            "justify_content": null,
            "_view_module": "@jupyter-widgets/base",
            "overflow": null,
            "_model_module_version": "1.2.0",
            "_view_count": null,
            "flex_flow": null,
            "width": null,
            "min_width": null,
            "border": null,
            "align_items": null,
            "bottom": null,
            "_model_module": "@jupyter-widgets/base",
            "top": null,
            "grid_column": null,
            "overflow_y": null,
            "overflow_x": null,
            "grid_auto_flow": null,
            "grid_area": null,
            "grid_template_columns": null,
            "flex": null,
            "_model_name": "LayoutModel",
            "justify_items": null,
            "grid_row": null,
            "max_height": null,
            "align_content": null,
            "visibility": null,
            "align_self": null,
            "height": null,
            "min_height": null,
            "padding": null,
            "grid_auto_rows": null,
            "grid_gap": null,
            "max_width": null,
            "order": null,
            "_view_module_version": "1.2.0",
            "grid_template_areas": null,
            "object_position": null,
            "object_fit": null,
            "grid_auto_columns": null,
            "margin": null,
            "display": null,
            "left": null
          }
        },
        "94f2921c7f62452086b71ef805901b8d": {
          "model_module": "@jupyter-widgets/controls",
          "model_name": "DescriptionStyleModel",
          "state": {
            "_view_name": "StyleView",
            "_model_name": "DescriptionStyleModel",
            "description_width": "",
            "_view_module": "@jupyter-widgets/base",
            "_model_module_version": "1.5.0",
            "_view_count": null,
            "_view_module_version": "1.2.0",
            "_model_module": "@jupyter-widgets/controls"
          }
        },
        "5e5ba63af5654492ae99c0d5fea7891b": {
          "model_module": "@jupyter-widgets/base",
          "model_name": "LayoutModel",
          "state": {
            "_view_name": "LayoutView",
            "grid_template_rows": null,
            "right": null,
            "justify_content": null,
            "_view_module": "@jupyter-widgets/base",
            "overflow": null,
            "_model_module_version": "1.2.0",
            "_view_count": null,
            "flex_flow": null,
            "width": null,
            "min_width": null,
            "border": null,
            "align_items": null,
            "bottom": null,
            "_model_module": "@jupyter-widgets/base",
            "top": null,
            "grid_column": null,
            "overflow_y": null,
            "overflow_x": null,
            "grid_auto_flow": null,
            "grid_area": null,
            "grid_template_columns": null,
            "flex": null,
            "_model_name": "LayoutModel",
            "justify_items": null,
            "grid_row": null,
            "max_height": null,
            "align_content": null,
            "visibility": null,
            "align_self": null,
            "height": null,
            "min_height": null,
            "padding": null,
            "grid_auto_rows": null,
            "grid_gap": null,
            "max_width": null,
            "order": null,
            "_view_module_version": "1.2.0",
            "grid_template_areas": null,
            "object_position": null,
            "object_fit": null,
            "grid_auto_columns": null,
            "margin": null,
            "display": null,
            "left": null
          }
        }
      }
    }
  },
  "cells": [
    {
      "cell_type": "markdown",
      "metadata": {
        "id": "view-in-github",
        "colab_type": "text"
      },
      "source": [
        "<a href=\"https://colab.research.google.com/github/HP-Balasubramanya/ML-PROJECT/blob/master/wine_assignment.ipynb\" target=\"_parent\"><img src=\"https://colab.research.google.com/assets/colab-badge.svg\" alt=\"Open In Colab\"/></a>"
      ]
    },
    {
      "cell_type": "code",
      "metadata": {
        "id": "HuNoKh5M2vwo",
        "colab_type": "code",
        "colab": {}
      },
      "source": [
        "import numpy as np\n",
        "import pandas as pd\n",
        "from sklearn.model_selection import train_test_split\n",
        "from tqdm import tqdm_notebook\n",
        "import matplotlib.pyplot as plt\n",
        "%matplotlib inline"
      ],
      "execution_count": null,
      "outputs": []
    },
    {
      "cell_type": "code",
      "metadata": {
        "id": "iO-sh2cV4cMJ",
        "colab_type": "code",
        "colab": {}
      },
      "source": [
        "def sigmoid(x):\n",
        "    return 1 / (1 + np.exp(-x))\n",
        "\n",
        "def dsigmoid(x):\n",
        "    return x * (1-x)\n",
        "\n",
        "def relu(x):\n",
        "     return abs(x) * (x > 0)\n",
        "\n",
        "def drelu(x):\n",
        "     return 1. * (x > 0.)\n",
        "\n",
        "def lrelu(x):\n",
        "    return np.where(x > 0., x, x * 0.01)\n",
        "\n",
        "def dlrelu(x):\n",
        "    dx = np.ones_like(x)\n",
        "    dx[x < 0.] = 0.01\n",
        "    return dx\n",
        "\n",
        "\n",
        "def tanh(x):\n",
        "    return np.tanh(x)\n",
        "\n",
        "def dtanh(x):\n",
        "    return 1.0 - (np.power(np.tanh(x),2))"
      ],
      "execution_count": null,
      "outputs": []
    },
    {
      "cell_type": "code",
      "metadata": {
        "id": "LrcT5o7B5I0y",
        "colab_type": "code",
        "colab": {}
      },
      "source": [
        "def feed_forward(data_in, w0,w1,w2,w3,b):\n",
        "  layer0 = data_in\n",
        "  layer1 = relu(np.dot(layer0,w0))\n",
        "  layer2 = relu(np.dot(layer1,w1))\n",
        "  layer3 = relu(np.dot(layer2,w2))\n",
        "  layer4 = np.dot(layer3, w3) +b\n",
        "\n",
        "  return layer0,layer1,layer2,layer3,layer4"
      ],
      "execution_count": null,
      "outputs": []
    },
    {
      "cell_type": "code",
      "metadata": {
        "id": "as-j_RMA_PHz",
        "colab_type": "code",
        "colab": {}
      },
      "source": [
        "def backpropogate(i, layer0, layer1, layer2, layer3, layer4, actual_y, w0,w1,w2,w3, b, learning_rate):\n",
        "\n",
        "    \n",
        "    op_delta = layer4 - actual_y\n",
        "    dh4 = np.dot(layer3.T, op_delta)\n",
        "    \n",
        "    l3_error = op_delta.dot(w3.T)\n",
        "    l3_delta = l3_error * drelu(layer3)\n",
        "    dh3 = np.dot(layer2.T, l3_delta)\n",
        "    \n",
        "    l2_error = l3_delta.dot(w2.T)\n",
        "    l2_delta = l2_error * drelu(layer2)\n",
        "    dh2 = np.dot(layer1.T, l2_delta)\n",
        "    \n",
        "    l1_error = l2_delta.dot(w1.T)\n",
        "    l1_delta = l1_error * drelu(layer1)\n",
        "    dh1 = np.dot(layer0.T, l1_delta)\n",
        "    \n",
        "    w3 = w3 - (learning_rate * dh4)\n",
        "    w2 = w2 - (learning_rate * dh3)\n",
        "    w1 = w1 - (learning_rate * dh2)\n",
        "    w0 = w0 - (learning_rate * dh1)\n",
        "    b = b - (learning_rate * np.mean(op_delta))\n",
        "\n",
        "    if i%50==0 and (i!=0):\n",
        "        loss = np.mean(np.power(layer4-actual_y, 2))\n",
        "        loss_curve.append(loss)\n",
        "        iters.append(int(i))\n",
        "        \n",
        "        if i%1000 == 0:\n",
        "            print(\"\\n\", int(i), loss)\n",
        "\n",
        "        \n",
        "    return w0, w1,w2,w3,b"
      ],
      "execution_count": null,
      "outputs": []
    },
    {
      "cell_type": "code",
      "metadata": {
        "id": "mbPgwTKNAxsj",
        "colab_type": "code",
        "colab": {}
      },
      "source": [
        "d = pd.read_csv(\"/content/datasets_4458_8204_winequality-red.csv\")\n",
        "\n",
        "d = (d-d.mean())/ (d.max()- d.min())\n",
        "x = np.array(d.iloc[:,:-1])\n",
        "y = np.array(d.iloc[:,-1])\n",
        "y = y.reshape(len(y), 1)\n",
        "xtrain,xtest,ytrain,ytest = train_test_split(x,y,test_size=0.2)"
      ],
      "execution_count": null,
      "outputs": []
    },
    {
      "cell_type": "code",
      "metadata": {
        "id": "GnQA025UEd9A",
        "colab_type": "code",
        "colab": {}
      },
      "source": [
        "w0 = np.random.random((11,50))\n",
        "w1 = np.random.random((50,30))\n",
        "w2 = np.random.random((30,5))\n",
        "w3 = np.random.random((5,1))\n",
        "b = np.random.random((1,1))\n",
        "epochs = 10000"
      ],
      "execution_count": null,
      "outputs": []
    },
    {
      "cell_type": "code",
      "metadata": {
        "id": "WrK0t38YJrY3",
        "colab_type": "code",
        "colab": {}
      },
      "source": [
        "loss_curve = []\n",
        "iters = []"
      ],
      "execution_count": null,
      "outputs": []
    },
    {
      "cell_type": "code",
      "metadata": {
        "id": "lKhu6kFDJ0Gn",
        "colab_type": "code",
        "colab": {
          "base_uri": "https://localhost:8080/",
          "height": 451,
          "referenced_widgets": [
            "6b9a740c87f14a0a8b2952e604ed2355",
            "b9e6ca9cf74f41498af7364c9d720493",
            "1945bd5fb3f64f6a90dd5574213f5e85",
            "211f28f2eab2443c8367f50e0667fdad",
            "0869044bc1e74edb9a04628579f68bb2",
            "ed57bc63d4b44e9bb8ebd17ae907700b",
            "94f2921c7f62452086b71ef805901b8d",
            "5e5ba63af5654492ae99c0d5fea7891b"
          ]
        },
        "outputId": "9b3e91c7-02bd-47d5-f37c-3ed3fc1d2ffc"
      },
      "source": [
        "for i in tqdm_notebook(range(epochs)):\n",
        "    layer0, layer1, layer2, layer3, layer4 = feed_forward(xtrain, w0,w1,w2,w3,b)\n",
        "    w0, w1,w2,w3,b = backpropogate(i,layer0, layer1, layer2, layer3, layer4, ytrain, w0,w1,w2,w3, b, 0.001 )"
      ],
      "execution_count": null,
      "outputs": [
        {
          "output_type": "stream",
          "text": [
            "/usr/local/lib/python3.6/dist-packages/ipykernel_launcher.py:1: TqdmDeprecationWarning: This function will be removed in tqdm==5.0.0\n",
            "Please use `tqdm.notebook.tqdm` instead of `tqdm.tqdm_notebook`\n",
            "  \"\"\"Entry point for launching an IPython kernel.\n"
          ],
          "name": "stderr"
        },
        {
          "output_type": "display_data",
          "data": {
            "application/vnd.jupyter.widget-view+json": {
              "model_id": "6b9a740c87f14a0a8b2952e604ed2355",
              "version_minor": 0,
              "version_major": 2
            },
            "text/plain": [
              "HBox(children=(FloatProgress(value=0.0, max=10000.0), HTML(value='')))"
            ]
          },
          "metadata": {
            "tags": []
          }
        },
        {
          "output_type": "stream",
          "text": [
            "\n",
            " 1000 0.03100366685185588\n",
            "\n",
            " 2000 0.026829876981978886\n",
            "\n",
            " 3000 0.026265580902946676\n",
            "\n",
            " 4000 0.026189288115159418\n",
            "\n",
            " 5000 0.02617897333594221\n",
            "\n",
            " 6000 0.026177578778561552\n",
            "\n",
            " 7000 0.026177390234507724\n",
            "\n",
            " 8000 0.02617736474336572\n",
            "\n",
            " 9000 0.026177361296965216\n",
            "\n"
          ],
          "name": "stdout"
        }
      ]
    },
    {
      "cell_type": "code",
      "metadata": {
        "id": "GJmgxniNLEva",
        "colab_type": "code",
        "colab": {
          "base_uri": "https://localhost:8080/",
          "height": 35
        },
        "outputId": "08110347-c606-4415-bcb3-38c77c6e6c11"
      },
      "source": [
        "layer0,layer1,layer2,layer3,layer4 = feed_forward(xtest,w0,w1,w2,w3,b)\n",
        "loss = np.mean(np.power(layer4-ytest,2))\n",
        "loss"
      ],
      "execution_count": null,
      "outputs": [
        {
          "output_type": "execute_result",
          "data": {
            "text/plain": [
              "0.02564442645831641"
            ]
          },
          "metadata": {
            "tags": []
          },
          "execution_count": 13
        }
      ]
    },
    {
      "cell_type": "code",
      "metadata": {
        "id": "THUs9PClNp08",
        "colab_type": "code",
        "colab": {
          "base_uri": "https://localhost:8080/",
          "height": 287
        },
        "outputId": "31cbab89-43a3-4cba-a980-00cbd338c36b"
      },
      "source": [
        "plt.plot(iters,loss_curve, 'g-')"
      ],
      "execution_count": null,
      "outputs": [
        {
          "output_type": "execute_result",
          "data": {
            "text/plain": [
              "[<matplotlib.lines.Line2D at 0x7fa7e320d860>]"
            ]
          },
          "metadata": {
            "tags": []
          },
          "execution_count": 14
        },
        {
          "output_type": "display_data",
          "data": {
            "image/png": "[encoded data removed]",
            "text/plain": [
              "<Figure size 432x288 with 1 Axes>"
            ]
          },
          "metadata": {
            "tags": [],
            "needs_background": "light"
          }
        }
      ]
    },
    {
      "cell_type": "code",
      "metadata": {
        "id": "2qnZ3qzeNzpZ",
        "colab_type": "code",
        "colab": {}
      },
      "source": [
        ""
      ],
      "execution_count": null,
      "outputs": []
    }
  ]
}